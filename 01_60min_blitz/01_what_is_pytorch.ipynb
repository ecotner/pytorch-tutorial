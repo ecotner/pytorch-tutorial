{
 "cells": [
  {
   "cell_type": "markdown",
   "metadata": {},
   "source": [
    "# What is PyTorch?"
   ]
  },
  {
   "cell_type": "code",
   "execution_count": 1,
   "metadata": {},
   "outputs": [],
   "source": [
    "import torch"
   ]
  },
  {
   "cell_type": "markdown",
   "metadata": {},
   "source": [
    "## The torch.Tensor object"
   ]
  },
  {
   "cell_type": "code",
   "execution_count": 12,
   "metadata": {},
   "outputs": [
    {
     "name": "stdout",
     "output_type": "stream",
     "text": [
      "tensor([[-3.3444e-07,  4.5838e-41, -3.3444e-07],\n",
      "        [ 4.5838e-41,  1.8522e+28,  1.8057e+28],\n",
      "        [ 3.0999e-15,  2.2210e+23,  7.2076e+31],\n",
      "        [ 2.0196e-19,  1.8888e+31,  1.2570e+19],\n",
      "        [ 1.8522e+28,  1.8057e+28,  1.8920e-19]])\n",
      "<class 'torch.Tensor'>\n"
     ]
    }
   ],
   "source": [
    "# uninitialized matrix\n",
    "x = torch.empty(5, 3)\n",
    "print(x)\n",
    "print(type(x))"
   ]
  },
  {
   "cell_type": "code",
   "execution_count": 4,
   "metadata": {},
   "outputs": [
    {
     "name": "stdout",
     "output_type": "stream",
     "text": [
      "tensor([[ 0.9660, -1.7220, -0.2695],\n",
      "        [ 0.3350,  1.5992,  1.7784],\n",
      "        [ 0.8081,  0.0377,  1.6873],\n",
      "        [ 0.2794, -0.7024, -1.2612],\n",
      "        [-1.3732, -0.9858, -0.6577]])\n"
     ]
    }
   ],
   "source": [
    "# randomly initialized matrix\n",
    "x = torch.randn(5, 3)\n",
    "print(x)"
   ]
  },
  {
   "cell_type": "code",
   "execution_count": 5,
   "metadata": {},
   "outputs": [
    {
     "name": "stdout",
     "output_type": "stream",
     "text": [
      "tensor([[0, 0, 0],\n",
      "        [0, 0, 0],\n",
      "        [0, 0, 0],\n",
      "        [0, 0, 0],\n",
      "        [0, 0, 0]])\n"
     ]
    }
   ],
   "source": [
    "# zeros with dtype long (64-bit int?)\n",
    "x = torch.zeros(5, 3, dtype=torch.long)\n",
    "print(x)"
   ]
  },
  {
   "cell_type": "code",
   "execution_count": 6,
   "metadata": {},
   "outputs": [
    {
     "name": "stdout",
     "output_type": "stream",
     "text": [
      "tensor([5.5000, 3.0000])\n"
     ]
    }
   ],
   "source": [
    "# constructed directly from data\n",
    "x = torch.tensor([5.5, 3])\n",
    "print(x)"
   ]
  },
  {
   "cell_type": "code",
   "execution_count": 13,
   "metadata": {},
   "outputs": [
    {
     "name": "stdout",
     "output_type": "stream",
     "text": [
      "tensor([[1., 1., 1.],\n",
      "        [1., 1., 1.],\n",
      "        [1., 1., 1.],\n",
      "        [1., 1., 1.],\n",
      "        [1., 1., 1.]], dtype=torch.float64)\n",
      "tensor([[ 1.5251,  2.6987, -0.8333],\n",
      "        [-0.4452, -1.9423, -1.1414],\n",
      "        [ 0.0739,  0.6392, -0.3557],\n",
      "        [ 0.4490, -1.2581,  0.5022],\n",
      "        [-0.0640,  0.1102, -0.1358]])\n"
     ]
    }
   ],
   "source": [
    "# create a tensor based on an existing tensor\n",
    "x = x.new_ones(5, 3, dtype=torch.double)\n",
    "print(x)\n",
    "\n",
    "x = torch.randn_like(x, dtype=torch.float)\n",
    "print(x)"
   ]
  },
  {
   "cell_type": "code",
   "execution_count": 43,
   "metadata": {},
   "outputs": [
    {
     "name": "stdout",
     "output_type": "stream",
     "text": [
      "torch.Size([4, 4])\n",
      "torch.Size([4, 4])\n"
     ]
    }
   ],
   "source": [
    "# size/dimensions\n",
    "print(x.size())\n",
    "print(x.shape)"
   ]
  },
  {
   "cell_type": "markdown",
   "metadata": {},
   "source": [
    "## Operations"
   ]
  },
  {
   "cell_type": "code",
   "execution_count": 22,
   "metadata": {},
   "outputs": [
    {
     "name": "stdout",
     "output_type": "stream",
     "text": [
      "tensor([[ 2.3329,  2.9037, -0.3463],\n",
      "        [ 0.2770, -1.5562, -0.9785],\n",
      "        [ 0.7536,  1.3836,  0.5315],\n",
      "        [ 0.8056, -0.4074,  0.9709],\n",
      "        [ 0.6510,  1.0167,  0.5308]])\n"
     ]
    }
   ],
   "source": [
    "y = torch.rand(5, 3)\n",
    "print(x + y)"
   ]
  },
  {
   "cell_type": "code",
   "execution_count": 23,
   "metadata": {},
   "outputs": [
    {
     "name": "stdout",
     "output_type": "stream",
     "text": [
      "tensor([[ 2.3329,  2.9037, -0.3463],\n",
      "        [ 0.2770, -1.5562, -0.9785],\n",
      "        [ 0.7536,  1.3836,  0.5315],\n",
      "        [ 0.8056, -0.4074,  0.9709],\n",
      "        [ 0.6510,  1.0167,  0.5308]])\n"
     ]
    }
   ],
   "source": [
    "print(torch.add(x, y))"
   ]
  },
  {
   "cell_type": "code",
   "execution_count": 24,
   "metadata": {},
   "outputs": [
    {
     "name": "stdout",
     "output_type": "stream",
     "text": [
      "tensor([[ 2.3329,  2.9037, -0.3463],\n",
      "        [ 0.2770, -1.5562, -0.9785],\n",
      "        [ 0.7536,  1.3836,  0.5315],\n",
      "        [ 0.8056, -0.4074,  0.9709],\n",
      "        [ 0.6510,  1.0167,  0.5308]])\n"
     ]
    }
   ],
   "source": [
    "# provide an output tensor as an argument\n",
    "# kinda like numpy's out arguments\n",
    "result = torch.empty(5, 3)\n",
    "torch.add(x, y, out=result)\n",
    "print(result)"
   ]
  },
  {
   "cell_type": "code",
   "execution_count": 25,
   "metadata": {},
   "outputs": [
    {
     "data": {
      "text/plain": [
       "tensor([[ 2.3329,  2.9037, -0.3463],\n",
       "        [ 0.2770, -1.5562, -0.9785],\n",
       "        [ 0.7536,  1.3836,  0.5315],\n",
       "        [ 0.8056, -0.4074,  0.9709],\n",
       "        [ 0.6510,  1.0167,  0.5308]])"
      ]
     },
     "execution_count": 25,
     "metadata": {},
     "output_type": "execute_result"
    }
   ],
   "source": [
    "# Another way of adding\n",
    "y.add(x)"
   ]
  },
  {
   "cell_type": "code",
   "execution_count": 27,
   "metadata": {},
   "outputs": [
    {
     "name": "stdout",
     "output_type": "stream",
     "text": [
      "tensor([[ 2.3329,  2.9037, -0.3463],\n",
      "        [ 0.2770, -1.5562, -0.9785],\n",
      "        [ 0.7536,  1.3836,  0.5315],\n",
      "        [ 0.8056, -0.4074,  0.9709],\n",
      "        [ 0.6510,  1.0167,  0.5308]])\n"
     ]
    }
   ],
   "source": [
    "# post-fixing an operation with `_` mutates a tensor in-place\n",
    "y.add_(x)\n",
    "print(y)"
   ]
  },
  {
   "cell_type": "code",
   "execution_count": 34,
   "metadata": {},
   "outputs": [
    {
     "name": "stdout",
     "output_type": "stream",
     "text": [
      "tensor([ 2.9037, -1.5562,  1.3836, -0.4074,  1.0167])\n",
      "tensor([2.3329, 2.9037])\n"
     ]
    }
   ],
   "source": [
    "# can use numpy-like slicing\n",
    "print(y[:, 1])\n",
    "print(y[0,:-1])"
   ]
  },
  {
   "cell_type": "code",
   "execution_count": 41,
   "metadata": {},
   "outputs": [
    {
     "name": "stdout",
     "output_type": "stream",
     "text": [
      "tensor([ 1.5480,  0.8996,  0.4670,  0.0698,  1.1280, -0.6655,  0.1457,  2.4475,\n",
      "        -0.6291, -0.9696,  1.2041,  2.9257,  0.1392, -0.7373,  0.4538, -0.1087])\n",
      "tensor([[ 1.5480,  0.8996,  0.4670,  0.0698,  1.1280, -0.6655,  0.1457,  2.4475],\n",
      "        [-0.6291, -0.9696,  1.2041,  2.9257,  0.1392, -0.7373,  0.4538, -0.1087]])\n",
      "torch.Size([2, 8])\n"
     ]
    }
   ],
   "source": [
    "# resize tensor\n",
    "# apparently using .resize() works, but is deprecated\n",
    "x = torch.randn(4, 4)\n",
    "print(x.view(16))\n",
    "print(x.view(-1, 8))\n",
    "print(x.view(-1, 8).size())"
   ]
  },
  {
   "cell_type": "code",
   "execution_count": 44,
   "metadata": {},
   "outputs": [
    {
     "name": "stdout",
     "output_type": "stream",
     "text": [
      "tensor([-1.5825])\n",
      "-1.58245050907135\n"
     ]
    }
   ],
   "source": [
    "# Using .item() on a scalar returns a python number\n",
    "x = torch.randn(1)\n",
    "print(x)\n",
    "print(x.item())"
   ]
  },
  {
   "cell_type": "markdown",
   "metadata": {},
   "source": [
    "## Converting back and forth between NumPy"
   ]
  },
  {
   "cell_type": "code",
   "execution_count": 46,
   "metadata": {},
   "outputs": [
    {
     "name": "stdout",
     "output_type": "stream",
     "text": [
      "tensor([1., 1., 1., 1., 1.])\n",
      "[1. 1. 1. 1. 1.]\n",
      "tensor([1., 1., 1., 1., 1.])\n",
      "tensor([1., 1., 1., 1., 1.])\n"
     ]
    }
   ],
   "source": [
    "a = torch.ones(5)\n",
    "print(a)\n",
    "\n",
    "# convert to numpy\n",
    "b = a.numpy()\n",
    "print(b)\n",
    "\n",
    "# and back to Tensor\n",
    "import numpy as np\n",
    "c = torch.from_numpy(b)\n",
    "d = torch.tensor(b)\n",
    "print(c)\n",
    "print(d)"
   ]
  },
  {
   "cell_type": "code",
   "execution_count": 47,
   "metadata": {},
   "outputs": [
    {
     "name": "stdout",
     "output_type": "stream",
     "text": [
      "[2. 2. 2. 2. 2.]\n",
      "tensor([2., 2., 2., 2., 2.])\n",
      "tensor([1., 1., 1., 1., 1.])\n"
     ]
    }
   ],
   "source": [
    "# The tensor created with torch.from_numpy()is linked to the numpy array,\n",
    "# so be careful of mutations. The one created from torch.tensor isn't though\n",
    "np.add(b, 1, out=b)\n",
    "print(b)\n",
    "print(c)\n",
    "print(d)"
   ]
  },
  {
   "cell_type": "markdown",
   "metadata": {},
   "source": [
    "## CUDA Tensors"
   ]
  },
  {
   "cell_type": "code",
   "execution_count": 49,
   "metadata": {
    "lines_to_next_cell": 0
   },
   "outputs": [
    {
     "name": "stdout",
     "output_type": "stream",
     "text": [
      "CUDA available:  True\n",
      "tensor([-0.5825], device='cuda:0')\n",
      "tensor([-0.5825], dtype=torch.float64)\n"
     ]
    }
   ],
   "source": [
    "# check if CUDA is available\n",
    "print(\"CUDA available: \", torch.cuda.is_available())\n",
    "\n",
    "if torch.cuda.is_available():\n",
    "    device = torch.device(\"cuda\") # CUDA device object\n",
    "    y = torch.ones_like(x, device=device) # directly create tensor on GPU\n",
    "    x = x.to(device) # convert device using .to()\n",
    "    z = x + y\n",
    "    print(z)\n",
    "    print(z.to(\"cpu\", torch.double))"
   ]
  },
  {
   "cell_type": "code",
   "execution_count": null,
   "metadata": {
    "lines_to_next_cell": 2
   },
   "outputs": [],
   "source": []
  }
 ],
 "metadata": {
  "jupytext": {
   "formats": "ipynb,py:light"
  },
  "kernelspec": {
   "display_name": "pytorch-tutorial",
   "language": "python",
   "name": "pytorch-tutorial"
  },
  "language_info": {
   "codemirror_mode": {
    "name": "ipython",
    "version": 3
   },
   "file_extension": ".py",
   "mimetype": "text/x-python",
   "name": "python",
   "nbconvert_exporter": "python",
   "pygments_lexer": "ipython3",
   "version": "3.7.5"
  }
 },
 "nbformat": 4,
 "nbformat_minor": 4
}
