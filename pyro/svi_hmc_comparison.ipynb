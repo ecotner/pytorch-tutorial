{
 "cells": [
  {
   "cell_type": "code",
   "execution_count": 1,
   "metadata": {},
   "outputs": [
    {
     "name": "stdout",
     "output_type": "stream",
     "text": [
      "/home/ecotner/pytorch-tutorial/pyro\n"
     ]
    }
   ],
   "source": [
    "%load_ext autoreload\n",
    "%autoreload 2\n",
    "%cd ~/pytorch-tutorial/pyro"
   ]
  },
  {
   "cell_type": "markdown",
   "metadata": {},
   "source": [
    "Recall that exponential growth $y(t) = y(t_0) \\exp\\left[\\gamma(t - t_0)\\right]$ can be described by the differential equation $\\dot{y} = \\gamma y$. We can easily turn this into a finite-difference recurrence relation:\n",
    "$$\n",
    "y_{t+1}= (1 + \\gamma\\, \\Delta t) y_t = (1 + r) y_t\n",
    "$$\n",
    "where $r = \\gamma\\, \\Delta t > 0$ is the rate of increase between each successive step $t \\rightarrow t+1$. If we are given some noisy sequential data $y_t$, then we can perform inference to estimate the distribution of $r$. However, let us assume that rather than a single fixed value of $r$, this quantity is sampled from some distribution $R$ at each time step so that $r \\rightarrow r_t \\sim R$. Our model is therefore\n",
    "$$\n",
    "y_{t+1} = (1 + r_t) y_t\n",
    "$$\n",
    "where $r_t$ is just the sample value of $r$ at time $t$. We can invert this relationship to get $r_t$ directly:\n",
    "$$\n",
    "r_t = (y_{t+1}/y_t) - 1,\n",
    "$$\n",
    "but what if we want to complicate our model in the future with extra terms to capture more effects? The model will in general not be invertible, so how do we _infer_ the distribution $R$? Let's use Bayesian inference!"
   ]
  },
  {
   "cell_type": "code",
   "execution_count": 2,
   "metadata": {},
   "outputs": [],
   "source": [
    "import tqdm\n",
    "import numpy as np\n",
    "import matplotlib.pyplot as plt\n",
    "import random\n",
    "import scipy.stats as st\n",
    "\n",
    "import torch\n",
    "import torch.tensor as tt\n",
    "from torch.distributions import constraints as tconst\n",
    "import pyro\n",
    "from pyro.distributions import Normal, Gamma, Delta, Uniform, Exponential, TransformedDistribution\n",
    "from pyro.distributions.transforms import AffineTransform, ExpTransform\n",
    "import pyro.infer\n",
    "from pyro.infer import MCMC, NUTS\n",
    "import pyro.optim"
   ]
  },
  {
   "cell_type": "code",
   "execution_count": 3,
   "metadata": {},
   "outputs": [],
   "source": [
    "class SVIModel:\n",
    "    \"\"\"\n",
    "    This models the system of equations y_{i+1} = (1+r)*y_i, where r ~ Gamma(k, theta).\n",
    "    The object is to perform inference and reconstruct the distribution of r using SVI\n",
    "    (which means recovering the parameters k and theta).\n",
    "    \"\"\"\n",
    "    def __init__(self, k, theta):\n",
    "        # Specify the parameters of the prior, and also the starting\n",
    "        # values of the variational parameters\n",
    "        self.k = torch.tensor(float(k))\n",
    "        self.theta = torch.tensor(float(theta))\n",
    "\n",
    "    def model(self, y):\n",
    "        N = len(y) - 1\n",
    "        # K and theta are variational parameters, but we still need to \"sample\" them\n",
    "        k = pyro.sample(\"k_\", Delta(self.k))\n",
    "        theta = pyro.sample(\"theta_\", Delta(self.theta))\n",
    "        with pyro.plate(\"data\", N):\n",
    "            # Now we need to specify the distribution of the target in terms\n",
    "            # of transformed distributions\n",
    "            x = Gamma(k, 1/theta) # The original distribution for r\n",
    "            x = TransformedDistribution(x, AffineTransform(1., 1.)) # 1+r\n",
    "            x = TransformedDistribution(x, ExpTransform().inv) # log(1+r)\n",
    "            X, Y = torch.log(y[:-1]), torch.log(y[1:])\n",
    "            Yhat = TransformedDistribution(x, AffineTransform(X, 1.)) # log(1+r) + log(y_i)\n",
    "            obs = pyro.sample(\"obs\", Yhat, obs=Y)\n",
    "\n",
    "    def guide(self, y):\n",
    "        N = len(y) - 1\n",
    "        k = pyro.param(\"k\", self.k, constraint=tconst.positive)\n",
    "        theta = pyro.param(\"theta\", self.theta, constraint=tconst.positive)\n",
    "        # Even though k and theta aren't random variables, we still need\n",
    "        # to sample them so the guide knows it needs to optimize them\n",
    "        pyro.sample(\"k_\", Delta(k))\n",
    "        pyro.sample(\"theta_\", Delta(theta))\n",
    "\n",
    "    def r(self, N=1):\n",
    "        # Useful for sampling from the posterior of r\n",
    "        k = pyro.param(\"k\", self.k, constraint=tconst.positive)\n",
    "        theta = pyro.param(\"theta\", self.theta, constraint=tconst.positive)\n",
    "        return Gamma(k, 1/theta).sample([N])"
   ]
  },
  {
   "cell_type": "code",
   "execution_count": 4,
   "metadata": {},
   "outputs": [
    {
     "data": {
      "application/vnd.jupyter.widget-view+json": {
       "model_id": "5547576a0aa5449394f47b79b17892ba",
       "version_major": 2,
       "version_minor": 0
      },
      "text/plain": [
       "HBox(children=(FloatProgress(value=0.0, max=300.0), HTML(value='')))"
      ]
     },
     "metadata": {},
     "output_type": "display_data"
    },
    {
     "name": "stdout",
     "output_type": "stream",
     "text": [
      "\n"
     ]
    }
   ],
   "source": [
    "## Generate dataset\n",
    "K, THETA = 3e0, 1e-1\n",
    "def gen_ts(k, theta, T=10):\n",
    "    y0 = 1\n",
    "    Y = [y0]\n",
    "    for t in range(T):\n",
    "        y0 = (1 + random.gammavariate(k, theta))*y0\n",
    "        Y.append(y0)\n",
    "    return torch.tensor(Y)\n",
    "\n",
    "# data = [gen_ts(K, THETA, T) for T in np.random.uniform(1, 10, size=100).round().astype(int)]\n",
    "Y = gen_ts(K, THETA, 100)\n",
    "\n",
    "pyro.enable_validation(True)\n",
    "pyro.clear_param_store()\n",
    "model = SVIModel(2, 0.5)\n",
    "svi = pyro.infer.SVI(\n",
    "    model=model.model,\n",
    "    guide=model.guide,\n",
    "    optim=pyro.optim.Adam({\"lr\": 1e-2, \"betas\": (0.9, 0.9)}),\n",
    "    loss=pyro.infer.Trace_ELBO()\n",
    ")\n",
    "\n",
    "num_steps = 300\n",
    "pbar = tqdm.notebook.tqdm(total=num_steps, mininterval=1)\n",
    "loss = []\n",
    "ps = pyro.get_param_store()\n",
    "params = dict()\n",
    "alpha = 0.9\n",
    "for i in range(num_steps):\n",
    "    loss.append(svi.step(Y))\n",
    "    if i == 0 or np.isinf(avg_loss):\n",
    "        avg_loss = loss[-1]\n",
    "    else:\n",
    "        avg_loss = alpha * avg_loss + (1-alpha) * loss[-1]\n",
    "    for k in ps.keys():\n",
    "        try:\n",
    "            params[k].append(ps[k].item())\n",
    "        except KeyError:\n",
    "            params[k] = [ps[k].item()]\n",
    "    pbar.set_description(f\"loss={avg_loss: 5.2e}\")\n",
    "    pbar.update()\n",
    "pbar.close()"
   ]
  },
  {
   "cell_type": "code",
   "execution_count": 5,
   "metadata": {},
   "outputs": [
    {
     "data": {
      "text/plain": [
       "'k=3.4141995906829834, theta=0.09110534191131592'"
      ]
     },
     "execution_count": 5,
     "metadata": {},
     "output_type": "execute_result"
    }
   ],
   "source": [
    "\", \".join([f\"{k}={v[-1]}\" for k, v in params.items()])"
   ]
  },
  {
   "cell_type": "code",
   "execution_count": 6,
   "metadata": {},
   "outputs": [
    {
     "data": {
      "image/png": "[encoded data removed]",
      "text/plain": [
       "<Figure size 432x288 with 1 Axes>"
      ]
     },
     "metadata": {
      "needs_background": "light"
     },
     "output_type": "display_data"
    }
   ],
   "source": [
    "plt.plot(loss)\n",
    "plt.title(\"ELBO loss\")\n",
    "plt.yscale('log')\n",
    "plt.show()"
   ]
  },
  {
   "cell_type": "code",
   "execution_count": 7,
   "metadata": {},
   "outputs": [
    {
     "data": {
      "image/png": "[encoded data removed]",
      "text/plain": [
       "<Figure size 432x288 with 1 Axes>"
      ]
     },
     "metadata": {
      "needs_background": "light"
     },
     "output_type": "display_data"
    }
   ],
   "source": [
    "for k, v in params.items():\n",
    "    plt.plot(v, label=k)\n",
    "plt.axhline(K, color='C0', linestyle=\"--\")\n",
    "plt.axhline(THETA, color=\"C1\", linestyle=\"--\")\n",
    "plt.yscale('log')\n",
    "plt.title(\"Parameter evolution\")\n",
    "plt.legend()\n",
    "plt.savefig(\"parameter_evolution.png\", bbox_inches=\"tight\", dpi=100)\n",
    "plt.show()"
   ]
  },
  {
   "cell_type": "code",
   "execution_count": 9,
   "metadata": {},
   "outputs": [
    {
     "data": {
      "image/png": "[encoded data removed]",
      "text/plain": [
       "<Figure size 432x288 with 1 Axes>"
      ]
     },
     "metadata": {
      "needs_background": "light"
     },
     "output_type": "display_data"
    }
   ],
   "source": [
    "plt.xlim(0, 1.2)\n",
    "# Ground-truth distribution\n",
    "x = np.linspace(0, 1.2, 100)\n",
    "y = st.gamma(a=K, scale=THETA).pdf(x)\n",
    "plt.plot(x, y, label=\"ground truth\")\n",
    "# Prior distribution\n",
    "x = np.linspace(0, 1.2, 100)\n",
    "y = st.gamma(a=model.k.item(), scale=model.theta.item()).pdf(x)\n",
    "plt.plot(x, y, label=\"prior\")\n",
    "# Sample distribution\n",
    "X = ((torch.roll(Y, -1) - Y)/Y).numpy()[:-1]\n",
    "plt.hist(X, bins=30, alpha=0.5, label=\"data\", density=True, histtype='step', linewidth=2)\n",
    "# The posterior distribution\n",
    "x = model.r(10000).numpy()\n",
    "plt.hist(x[x<1.2], bins=30, alpha=0.5, label=\"posterior\", density=True, histtype='step', linewidth=2)\n",
    "\n",
    "plt.legend()\n",
    "plt.title(\"PDF comparisons using SVI\")\n",
    "plt.savefig(\"svi_distributions.png\", bbox_inches=\"tight\", dpi=100)\n",
    "plt.show()"
   ]
  },
  {
   "cell_type": "markdown",
   "metadata": {},
   "source": [
    "## Now do the same thing for HMC"
   ]
  },
  {
   "cell_type": "code",
   "execution_count": 10,
   "metadata": {},
   "outputs": [],
   "source": [
    "class HMCModel:\n",
    "    \"\"\"\n",
    "    This models the system of equations y_{i+1} = (1+r)*y_i, where r ~ Gamma(k, theta).\n",
    "    The object is to perform inference and reconstruct the distribution of r using HMC (NUTS).\n",
    "    This actually means recovering the posterior of the parameters of the gamma distribution\n",
    "    which determines r.\n",
    "    \"\"\"\n",
    "    def __init__(self, k, theta):\n",
    "        # Specify the parameters of the prior\n",
    "        self.k = torch.tensor(float(k))\n",
    "        self.theta = torch.tensor(float(theta))\n",
    "\n",
    "    def model(self, y):\n",
    "        N = len(y) - 1\n",
    "        # Sample from the hyperpriors for r\n",
    "        alpha = abs(pyro.sample(\"k\", Uniform(0, 4)))\n",
    "        beta = 1/abs(pyro.sample(\"theta\", Uniform(0, 3)))\n",
    "        with pyro.plate(\"data\", N):\n",
    "            # Now we need to specify the distribution of the target in terms\n",
    "            # of transformed distributions\n",
    "            r = Gamma(alpha, beta) # The original distribution for r\n",
    "            x = TransformedDistribution(r, AffineTransform(1., 1.)) # 1+r\n",
    "            x = TransformedDistribution(x, ExpTransform().inv) # log(1+r)\n",
    "            X, Y = torch.log(y[:-1]), torch.log(y[1:])\n",
    "            Yhat = TransformedDistribution(x, AffineTransform(X, 1.)) # log(1+r) + log(y_i)\n",
    "            obs = pyro.sample(\"obs\", Yhat, obs=Y)"
   ]
  },
  {
   "cell_type": "code",
   "execution_count": 11,
   "metadata": {},
   "outputs": [
    {
     "name": "stderr",
     "output_type": "stream",
     "text": [
      "Sample: 100%|██████████| 3000/3000 [00:38, 76.96it/s, step size=4.41e-01, acc. prob=0.937]\n"
     ]
    }
   ],
   "source": [
    "## Generate dataset\n",
    "K, THETA = 3e0, 1e-1\n",
    "def gen_ts(k, theta, T=10):\n",
    "    y0 = 1\n",
    "    Y = [y0]\n",
    "    for t in range(T):\n",
    "        y0 = (1 + random.gammavariate(k, theta))*y0\n",
    "        Y.append(y0)\n",
    "    return torch.tensor(Y)\n",
    "\n",
    "Y = gen_ts(K, THETA, 100)\n",
    "\n",
    "pyro.enable_validation(True)\n",
    "model = HMCModel(2, 2)\n",
    "\n",
    "nuts_kernel = NUTS(\n",
    "    model.model,\n",
    "    adapt_step_size=True,\n",
    "    adapt_mass_matrix=True,\n",
    "    jit_compile=False,\n",
    "    full_mass=True\n",
    ")\n",
    "mcmc = MCMC(\n",
    "    nuts_kernel,\n",
    "    num_samples=2000,\n",
    "    warmup_steps=1000,\n",
    "    num_chains=1\n",
    ")\n",
    "mcmc.run(Y)\n",
    "samples = mcmc.get_samples()"
   ]
  },
  {
   "cell_type": "code",
   "execution_count": 12,
   "metadata": {},
   "outputs": [
    {
     "name": "stdout",
     "output_type": "stream",
     "text": [
      "\n",
      "                mean       std    median      5.0%     95.0%     n_eff     r_hat\n",
      "         k      3.18      0.37      3.18      2.60      3.82    345.19      1.00\n",
      "     theta      0.08      0.01      0.08      0.07      0.10    429.96      1.00\n",
      "\n",
      "Number of divergences: 0\n"
     ]
    }
   ],
   "source": [
    "mcmc.summary()"
   ]
  },
  {
   "cell_type": "code",
   "execution_count": 15,
   "metadata": {},
   "outputs": [
    {
     "data": {
      "image/png": "[encoded data removed]",
      "text/plain": [
       "<Figure size 432x288 with 1 Axes>"
      ]
     },
     "metadata": {
      "needs_background": "light"
     },
     "output_type": "display_data"
    }
   ],
   "source": [
    "plt.xlim(left=0, right=1.25)\n",
    "# Ground-truth distribution\n",
    "x = np.linspace(0, 1.25, 100)\n",
    "y = st.gamma(a=K, scale=THETA).pdf(x)\n",
    "plt.plot(x, y, label=\"ground truth\")\n",
    "# # Prior distribution\n",
    "k = st.uniform(0, 4).rvs(5000)\n",
    "th = st.uniform(0, 3).rvs(5000)\n",
    "x = st.gamma(a=k, scale=th).rvs()\n",
    "x = x[x<1.25]\n",
    "plt.hist(x, bins=30, density=True, histtype='step', alpha=0.5, label=\"prior\", linewidth=2)\n",
    "# Data distribution\n",
    "X = ((torch.roll(Y, -1) - Y)/Y).numpy()[:-1]\n",
    "plt.hist(X, bins=10, alpha=0.5, label=\"data\", density=True, histtype='step', linewidth=2)\n",
    "# Posterior samples\n",
    "k = abs(samples['k']).flatten().numpy()\n",
    "th = abs(samples['theta']).flatten().numpy()\n",
    "x = np.array([st.gamma(a=k_, scale=th_).rvs() for k_, th_ in zip(k, th)])\n",
    "x = x[x<1.25]\n",
    "plt.hist(x, bins=30, alpha=0.5, label=\"posterior\", density=True, histtype='step', linewidth=2)\n",
    "\n",
    "plt.legend()\n",
    "plt.title(\"PDF comparisons using NUTS\")\n",
    "plt.savefig(\"nuts_distributions.png\", bbox_inches='tight', dpi=100)\n",
    "plt.show()"
   ]
  },
  {
   "cell_type": "code",
   "execution_count": null,
   "metadata": {},
   "outputs": [],
   "source": []
  }
 ],
 "metadata": {
  "kernelspec": {
   "display_name": "Python 3",
   "language": "python",
   "name": "python3"
  },
  "language_info": {
   "codemirror_mode": {
    "name": "ipython",
    "version": 3
   },
   "file_extension": ".py",
   "mimetype": "text/x-python",
   "name": "python",
   "nbconvert_exporter": "python",
   "pygments_lexer": "ipython3",
   "version": "3.7.5"
  }
 },
 "nbformat": 4,
 "nbformat_minor": 4
}
